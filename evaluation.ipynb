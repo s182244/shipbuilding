{
 "cells": [
  {
   "cell_type": "markdown",
   "metadata": {},
   "source": [
    "__Machine Learning applied to Shipbuilding Market Analysis__\n",
    "\n",
    "*Technical Univeristy of Denmark (DTU) - s182244 - MIT License*"
   ]
  },
  {
   "cell_type": "markdown",
   "metadata": {},
   "source": [
    "__Imports__"
   ]
  },
  {
   "cell_type": "code",
   "execution_count": 1,
   "metadata": {},
   "outputs": [
    {
     "name": "stdout",
     "output_type": "stream",
     "text": [
      "Loaded: 852 samples x 72 features\n"
     ]
    }
   ],
   "source": [
    "from utilities import *\n",
    "from framework import Splitter, Selector, Baseline, Model, CrossValidation\n",
    "\n",
    "from sklearn.linear_model import LinearRegression\n",
    "from sklearn.neural_network import MLPRegressor\n",
    "from sklearn.model_selection import GridSearchCV\n",
    "\n",
    "ts = load_data('data/ts_std.csv')\n",
    "indicators = pd.read_csv('data/indicators.csv')"
   ]
  },
  {
   "cell_type": "code",
   "execution_count": 2,
   "metadata": {
    "tags": [
     "remove"
    ]
   },
   "outputs": [],
   "source": [
    "#Tag: remove\n",
    "from xx_utilities import convert_nb\n",
    "convert_nb(path='', name='evaluation')"
   ]
  },
  {
   "cell_type": "markdown",
   "metadata": {},
   "source": [
    "__Framework Usage Examples__"
   ]
  },
  {
   "cell_type": "code",
   "execution_count": 3,
   "metadata": {},
   "outputs": [
    {
     "name": "stdout",
     "output_type": "stream",
     "text": [
      "Train split: 2000-02 -> 2005-12, test split: 2006-01 -> 2006-12\n",
      "Train split: 2007-02 -> 2012-12, test split: 2013-01 -> 2013-12\n",
      "Train split: 2014-02 -> 2019-12, test split: 2020-01 -> 2020-12\n"
     ]
    }
   ],
   "source": [
    "idX = pd.period_range(start='2000-01', end='2020-12', freq='M')\n",
    "tsX = ts.loc[idX].copy()\n",
    "splitter = Splitter(n_splits=3, tt_split=0.85)\n",
    "for train_split, test_split in splitter.split(idX):\n",
    "    train_start, train_end = str(tsX.iloc[train_split].index.min()),str(tsX.iloc[train_split].index.max())\n",
    "    test_start, test_end = str(tsX.iloc[test_split].index.min()),str(tsX.iloc[test_split].index.max())\n",
    "    print('Train split: '+ train_start+' -> '+train_end + ', test split: '+test_start+' -> '+test_end)"
   ]
  },
  {
   "cell_type": "code",
   "execution_count": 4,
   "metadata": {},
   "outputs": [
    {
     "name": "stdout",
     "output_type": "stream",
     "text": [
      "X shape: 12 x 4 \n",
      "y shape: 12 x 1 \n",
      "\n",
      "Last values in y and X:\n",
      "y_0: [-0.3979711] X_0: [ 0.80290981  0.32027148  0.37563704 -1.21588929]\n",
      "y_1: [1.34039283] X_1: [-0.3979711  -1.18794807  0.80290981  0.32027148]\n",
      "y_2: [0.15646264] X_2: [ 1.34039283 -0.35766817 -0.3979711  -1.18794807]\n"
     ]
    }
   ],
   "source": [
    "idX = pd.period_range(start='2020-01', end='2020-12', freq='M')\n",
    "X_selector = Selector(indIDs= ['999999', '999998'])\n",
    "y_selector = Selector(indIDs= ['999999'])\n",
    "X_sel_params = {\n",
    "    's' : 1, #Moving average smoothing window size\n",
    "    'd' : 0, #Differentiation order\n",
    "    'w' : 2, #Autoregressive window size\n",
    "}\n",
    "X_selector.set_params(**X_sel_params)\n",
    "y_selector.set_params(**{'w':0, 's':0, 'd':0}) #Default parameters (no transformations)\n",
    "X = X_selector.fit_transform(idX)\n",
    "y = y_selector.fit_transform(idX)\n",
    "print('X shape: %d x %d ' %X.shape)\n",
    "print('y shape: %d x %d ' %y.shape)\n",
    "print('\\nLast values in y and X:')\n",
    "for i, X_i, y_i in zip(range(3), X[-3:], y[-3:]):\n",
    "    print('y_%d:'%i, y_i, 'X_%d:'%i, X_i)"
   ]
  },
  {
   "cell_type": "code",
   "execution_count": 5,
   "metadata": {},
   "outputs": [
    {
     "name": "stdout",
     "output_type": "stream",
     "text": [
      "Split 0\n",
      "Train: 2020-02 [-0.15007671] [0.89087102 1.21685736 1.53882928 1.49196871]\n",
      "Train: 2020-03 [1.10444427] [-0.15007671  0.03315504  0.89087102  1.21685736]\n",
      "Train: 2020-04 [0.64832836] [ 1.10444427  0.9475209  -0.15007671  0.03315504]\n",
      "Test: 2020-05 [0.04408773] [0.64832836 1.11364206 1.10444427 0.9475209 ]\n",
      "Test: 2020-06 [0.13616214] [ 0.04408773 -1.04136549  0.64832836  1.11364206]\n",
      "\n",
      "Split 1\n",
      "Train: 2020-08 [0.37563704] [-0.30425231 -0.68592606  0.13616214  0.71813093]\n",
      "Train: 2020-09 [0.80290981] [ 0.37563704 -1.21588929 -0.30425231 -0.68592606]\n",
      "Train: 2020-10 [-0.3979711] [ 0.80290981  0.32027148  0.37563704 -1.21588929]\n",
      "Test: 2020-11 [1.34039283] [-0.3979711  -1.18794807  0.80290981  0.32027148]\n",
      "Test: 2020-12 [0.15646264] [ 1.34039283 -0.35766817 -0.3979711  -1.18794807]\n",
      "\n"
     ]
    }
   ],
   "source": [
    "idX = pd.period_range(start='2020-01', end='2020-12', freq='M')\n",
    "splitter = Splitter(n_splits=2, tt_split=0.6)\n",
    "split = 0\n",
    "for train_split, test_split in splitter.split(idX):\n",
    "    print('Split %d'%split)\n",
    "    train_idX, test_idX = idX[train_split].copy(), idX[test_split].copy()\n",
    "    X_train, X_test = X_selector.fit_transform(train_idX), X_selector.transform(test_idX)\n",
    "    y_train, y_test = y_selector.fit_transform(train_idX), y_selector.transform(test_idX)\n",
    "    for p, X_i, y_i in zip(train_idX, X_train, y_train):\n",
    "        print('Train:', str(p), y_i, X_i)\n",
    "    for p, X_i, y_i in zip(test_idX, X_test, y_test):\n",
    "        print('Test:', str(p), y_i, X_i)\n",
    "    print('')\n",
    "    split+=1"
   ]
  },
  {
   "cell_type": "code",
   "execution_count": 6,
   "metadata": {},
   "outputs": [
    {
     "data": {
      "text/plain": [
       "-0.045270351641879536"
      ]
     },
     "execution_count": 6,
     "metadata": {},
     "output_type": "execute_result"
    }
   ],
   "source": [
    "idX = pd.period_range(start='2020-01', end='2020-12', freq='M')\n",
    "X_selector.set_params(**{'s':3, 'd':1, 'w':2})\n",
    "y_selector.set_params(**{'s':1, 'd':1, 'w':0})\n",
    "X = X_selector.fit_transform(idX)\n",
    "y = y_selector.fit_transform(idX)\n",
    "estimator = Baseline()\n",
    "estimator.fit(X, y)\n",
    "estimator.score(X, y)"
   ]
  },
  {
   "cell_type": "code",
   "execution_count": 7,
   "metadata": {},
   "outputs": [
    {
     "data": {
      "text/plain": [
       "-0.045270351641879536"
      ]
     },
     "execution_count": 7,
     "metadata": {},
     "output_type": "execute_result"
    }
   ],
   "source": [
    "model = Model(X_selector, y_selector, Baseline())\n",
    "model.set_params(**{'X_selector__s': 3, 'X_selector__d':1, 'X_selector__w':2})\n",
    "model.set_params(**{'y_selector__s': 1, 'y_selector__d':1, 'y_selector__w':0})\n",
    "model.fit(idX)\n",
    "model.score(idX)"
   ]
  },
  {
   "cell_type": "code",
   "execution_count": 8,
   "metadata": {},
   "outputs": [
    {
     "data": {
      "text/plain": [
       "0.3441595774229117"
      ]
     },
     "execution_count": 8,
     "metadata": {},
     "output_type": "execute_result"
    }
   ],
   "source": [
    "estimator = LinearRegression()\n",
    "estimator.fit(X, y)\n",
    "estimator.score(X, y)"
   ]
  },
  {
   "cell_type": "code",
   "execution_count": 9,
   "metadata": {},
   "outputs": [
    {
     "data": {
      "text/plain": [
       "0.3441595774229117"
      ]
     },
     "execution_count": 9,
     "metadata": {},
     "output_type": "execute_result"
    }
   ],
   "source": [
    "model = Model(X_selector, y_selector, LinearRegression())\n",
    "model.fit(idX)\n",
    "model.score(idX)"
   ]
  },
  {
   "cell_type": "code",
   "execution_count": 10,
   "metadata": {},
   "outputs": [
    {
     "data": {
      "text/plain": [
       "0.43729120766991547"
      ]
     },
     "execution_count": 10,
     "metadata": {},
     "output_type": "execute_result"
    }
   ],
   "source": [
    "estimator = MLPRegressor()\n",
    "estimator.fit(X, y)\n",
    "estimator.score(X, y)"
   ]
  },
  {
   "cell_type": "code",
   "execution_count": 11,
   "metadata": {},
   "outputs": [
    {
     "data": {
      "text/plain": [
       "0.4691181564824761"
      ]
     },
     "execution_count": 11,
     "metadata": {},
     "output_type": "execute_result"
    }
   ],
   "source": [
    "model = Model(X_selector, y_selector, estimator=MLPRegressor())\n",
    "model.fit(idX)\n",
    "model.score(idX)"
   ]
  },
  {
   "cell_type": "markdown",
   "metadata": {},
   "source": [
    "Note: The MLPRegressor score is slightly lower when using the Model wrapper because it allows a few less iterations in the gradient descent."
   ]
  },
  {
   "cell_type": "markdown",
   "metadata": {},
   "source": [
    "__Demand Model Selection__"
   ]
  },
  {
   "cell_type": "code",
   "execution_count": 12,
   "metadata": {},
   "outputs": [],
   "source": [
    "idX = pd.period_range(start='2000-01', end='2020-12', freq='M')\n",
    "grid = {\n",
    "    'X_selector__s' : [s for s in range(0, 37, 1)],  #Moving average smoothing window size\n",
    "    'X_selector__d' : [d for d in range(0, 37, 1)],   #Differentiation order\n",
    "    'X_selector__w' : [1]+[w for w in range(6, 61, 1)], #Autoregressive window size\n",
    "}"
   ]
  },
  {
   "cell_type": "markdown",
   "metadata": {},
   "source": [
    "#test grid\n",
    "grid = {\n",
    "    'X_selector__s' : [0], #X Moving average smoothing window size\n",
    "    'X_selector__d' : [0], #X Differentiation order\n",
    "    'X_selector__w' : [6, 12, 24], #X Autoregressive window size #1 yields worst scores\n",
    "}"
   ]
  },
  {
   "cell_type": "markdown",
   "metadata": {},
   "source": [
    "_Estimator: Baseline_"
   ]
  },
  {
   "cell_type": "code",
   "execution_count": 14,
   "metadata": {},
   "outputs": [],
   "source": [
    "X_selector = Selector(indIDs= ['999999']) #The baseline takes only y as inputs\n",
    "y_selector = Selector(indIDs= ['999999'])\n",
    "splitter = Splitter(n_splits=3, tt_split=0.85)\n",
    "\n",
    "model_B = Model(X_selector, y_selector, Baseline()) \n",
    "search_B = CrossValidation(model_B, grid, splitter)\n",
    "search_B.fit(idX)\n",
    "search_B.save_results('BSearch', path='results/')"
   ]
  },
  {
   "cell_type": "markdown",
   "metadata": {},
   "source": [
    "_Estimator: Linear Regression_"
   ]
  },
  {
   "cell_type": "code",
   "execution_count": 15,
   "metadata": {},
   "outputs": [],
   "source": [
    "X_mask = (indicators.Type == 'Economy') | (indicators.Type == 'Demand')\n",
    "X_selector = Selector(indIDs=list(indicators[X_mask].ID.apply(str)))\n",
    "y_selector = Selector(indIDs=['999999'])\n",
    "splitter = Splitter(n_splits=3, tt_split=0.85)\n",
    "\n",
    "model_LR = Model(X_selector, y_selector, LinearRegression())\n",
    "search_LR = CrossValidation(model_LR, grid, splitter)\n",
    "search_LR.fit(idX)\n",
    "search_LR.save_results('LRSearch', path='results/')"
   ]
  },
  {
   "cell_type": "markdown",
   "metadata": {},
   "source": [
    "_Estimator: Feedforward Neural Network_"
   ]
  },
  {
   "cell_type": "code",
   "execution_count": 16,
   "metadata": {},
   "outputs": [],
   "source": [
    "X_mask = (indicators.Type == 'Economy') | (indicators.Type == 'Demand')\n",
    "X_selector = Selector(indIDs=list(indicators[X_mask].ID.apply(str)))\n",
    "y_selector = Selector(indIDs=['999999'])\n",
    "splitter = Splitter(n_splits=3, tt_split=0.85)\n",
    "\n",
    "model_NN = Model(X_selector, y_selector, MLPRegressor())\n",
    "search_NN = CrossValidation(model_NN, grid, splitter)\n",
    "search_NN.fit(idX)\n",
    "search_NN.save_results('NNSearch', path='results/')"
   ]
  },
  {
   "cell_type": "code",
   "execution_count": null,
   "metadata": {},
   "outputs": [],
   "source": []
  },
  {
   "cell_type": "code",
   "execution_count": null,
   "metadata": {},
   "outputs": [],
   "source": []
  },
  {
   "cell_type": "code",
   "execution_count": null,
   "metadata": {},
   "outputs": [],
   "source": []
  }
 ],
 "metadata": {
  "kernelspec": {
   "display_name": "Python 3",
   "language": "python",
   "name": "python3"
  },
  "language_info": {
   "codemirror_mode": {
    "name": "ipython",
    "version": 3
   },
   "file_extension": ".py",
   "mimetype": "text/x-python",
   "name": "python",
   "nbconvert_exporter": "python",
   "pygments_lexer": "ipython3",
   "version": "3.8.5"
  }
 },
 "nbformat": 4,
 "nbformat_minor": 4
}
